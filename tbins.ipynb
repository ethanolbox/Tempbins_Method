{
 "cells": [
  {
   "cell_type": "code",
   "execution_count": 160,
   "metadata": {},
   "outputs": [],
   "source": [
    "# Basic imports\n",
    "import scipy, pandas as pd, numpy as np\n",
    "from matplotlib import pyplot as plt\n",
    "\n",
    "# set the constants\n",
    "THRESHOLDS = [-6.67, -1.11, 4.44, 26.67, 32.22, 37.78]"
   ]
  },
  {
   "cell_type": "code",
   "execution_count": 161,
   "metadata": {},
   "outputs": [],
   "source": [
    "# reshape, remove unnecessary columns and add datetime indices\n",
    "def proc(frame, year, type):\n",
    "    if (type == 'min'):\n",
    "        label = \"tmin\"\n",
    "    elif (type == 'max'):\n",
    "        label = \"tmax\"\n",
    "    else:\n",
    "        return -1\n",
    "\n",
    "    processed = frame.copy()\n",
    "    for name in list(frame):\n",
    "        if name[:4] != (label) and name != \"GEOID20\":\n",
    "            processed = processed.drop(name, axis=1)\n",
    "    \n",
    "    processed = processed.melt(id_vars='GEOID20', var_name='Date', value_name=label)\n",
    "    \n",
    "    # conversion to Python datetime objects\n",
    "    processed['Date'] = processed['Date'].map(lambda x: x.lstrip(label)) + str(year)\n",
    "    processed['Date'] = pd.to_datetime(processed['Date'], format='%b%d%Y')\n",
    "\n",
    "    # Set + sort by multi-level index using 'GEOID20' and 'Date'\n",
    "    processed.set_index(['GEOID20', 'Date'], inplace=True)\n",
    "    processed.sort_index(inplace=True)\n",
    "\n",
    "    return processed"
   ]
  },
  {
   "cell_type": "code",
   "execution_count": 162,
   "metadata": {},
   "outputs": [],
   "source": [
    "def combine(minFrame, maxFrame, year):\n",
    "    pminframe = proc(minFrame, year, 'min')\n",
    "    pmaxframe = proc(maxFrame, year, 'max')\n",
    "\n",
    "    avgframe = pd.DataFrame(index=pminframe.index)\n",
    "    avgframe.loc[:, 'tavg'] = (pminframe['tmin'] + pmaxframe['tmax']) / 2\n",
    "\n",
    "    return avgframe"
   ]
  },
  {
   "cell_type": "code",
   "execution_count": 163,
   "metadata": {},
   "outputs": [],
   "source": [
    "def bin(avgframe):\n",
    "    zips = avgframe.index.get_level_values('GEOID20')\n",
    "    \n",
    "    thresholds = THRESHOLDS.copy()\n",
    "    length = len(thresholds)\n",
    "    threshold_counts = []\n",
    "\n",
    "    # first threshold (strict less than)\n",
    "\n",
    "    # Filter the dataframe to get only entries exceeding the threshold\n",
    "    exceed_threshold_df = avgframe[avgframe['tavg'] < thresholds[0]]\n",
    "    # Group by zip code and count the number of exceedances\n",
    "    grouped_df = exceed_threshold_df.groupby(['GEOID20']).size().reset_index(name=f'<{thresholds[0]}')\n",
    "    # Set the index to all zip codes and fill others with 0s\n",
    "    grouped_df = grouped_df.set_index('GEOID20').reindex(zips.unique()).fillna(0).reset_index()\n",
    "    # Convert the count values to integers\n",
    "    grouped_df[f'<{thresholds[0]}'] = grouped_df[f'<{thresholds[0]}'].astype(int)\n",
    "    # Store the counts for this threshold in the array\n",
    "    threshold_counts.append(grouped_df)\n",
    "\n",
    "    # loop of interval thresholds\n",
    "\n",
    "    i = 1\n",
    "    while i < (length):\n",
    "        threshold_df = avgframe[(avgframe['tavg'] < thresholds[i]) & (avgframe['tavg'] >= thresholds[i-1])]\n",
    "        grouped_df = threshold_df.groupby(['GEOID20']).size().reset_index(name=f'[{thresholds[i-1]},{thresholds[i]})')\n",
    "        grouped_df = grouped_df.set_index('GEOID20').reindex(zips.unique()).fillna(0).reset_index()\n",
    "        grouped_df[f'[{thresholds[i-1]},{thresholds[i]})'] = grouped_df[f'[{thresholds[i-1]},{thresholds[i]})'].astype(int)\n",
    "        threshold_counts.append(grouped_df)\n",
    "        i = i + 1\n",
    "    \n",
    "    # for last threshold (geq 100)\n",
    "\n",
    "    exceed_threshold_df = avgframe[avgframe['tavg'] >= thresholds[length - 1]]\n",
    "    grouped_df = exceed_threshold_df.groupby(['GEOID20']).size().reset_index(name=f'>={thresholds[length - 1]}')\n",
    "    grouped_df = grouped_df.set_index('GEOID20').reindex(zips.unique()).fillna(0).reset_index()\n",
    "    grouped_df[f'>={thresholds[length - 1]}'] = grouped_df[f'>={thresholds[length - 1]}'].astype(int)\n",
    "    threshold_counts.append(grouped_df)\n",
    "\n",
    "    # merge them into sorted different columns\n",
    "    result_df = threshold_counts[0]\n",
    "    for threshold in threshold_counts[1:]:\n",
    "        result_df = pd.merge(result_df, threshold, on=['GEOID20'], how='outer')\n",
    "    \n",
    "    return result_df"
   ]
  },
  {
   "cell_type": "code",
   "execution_count": 164,
   "metadata": {},
   "outputs": [],
   "source": [
    "# mCount section: find for each year the number of days per month various threholds are exceeded\n",
    "years = range(2006, 2023)\n",
    "columnNames = []\n",
    "\n",
    "# setting column names\n",
    "columnNames.append(f'<{THRESHOLDS[0]}')\n",
    "i = 1\n",
    "while i < len(THRESHOLDS):\n",
    "    columnNames.append(f'[{THRESHOLDS[i-1]},{THRESHOLDS[i]})')\n",
    "    i = i+1\n",
    "columnNames.append(f'>={THRESHOLDS[len(THRESHOLDS) - 1]}')\n",
    "columnNames.insert(0, 'GEOID20')"
   ]
  },
  {
   "cell_type": "code",
   "execution_count": 168,
   "metadata": {},
   "outputs": [],
   "source": [
    "import csv\n",
    "\n",
    "for year in years:\n",
    "    minframe = pd.read_csv(\"extracted_by_year/\" + str(year) + \"_extracted/tmin\" + str(year) + \".csv\")\n",
    "    maxframe = pd.read_csv(\"extracted_by_year/\" + str(year) + \"_extracted/tmax\" + str(year) + \".csv\")\n",
    "\n",
    "    avgframe = combine(minframe, maxframe, year)\n",
    "    result = bin(avgframe)\n",
    "\n",
    "    # Convert to DataFrame\n",
    "    df = pd.DataFrame(result, columns=columnNames)\n",
    "\n",
    "    # Save to CSV with quoted column names and data\n",
    "    df.to_csv(\"tempbins\" + str(year) + \".csv\", index=False, quoting=csv.QUOTE_ALL)\n",
    "   #  np.savetxt(\"tempbins\" + str(year) + \".csv\", result, fmt='%s', delimiter=', ', header=', '.join(columnNames))"
   ]
  }
 ],
 "metadata": {
  "kernelspec": {
   "display_name": "Python 3",
   "language": "python",
   "name": "python3"
  },
  "language_info": {
   "codemirror_mode": {
    "name": "ipython",
    "version": 3
   },
   "file_extension": ".py",
   "mimetype": "text/x-python",
   "name": "python",
   "nbconvert_exporter": "python",
   "pygments_lexer": "ipython3",
   "version": "3.9.13"
  }
 },
 "nbformat": 4,
 "nbformat_minor": 2
}
